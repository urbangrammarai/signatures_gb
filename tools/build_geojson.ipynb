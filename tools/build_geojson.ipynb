{
    "cells": [
     {
      "cell_type": "markdown",
      "id": "cb0d2916",
      "metadata": {},
      "source": [
       "# Build GeoJSON of chunks"
      ]
     },
     {
      "cell_type": "code",
      "execution_count": 1,
      "id": "a13f620d",
      "metadata": {},
      "outputs": [
       {
        "name": "stderr",
        "output_type": "stream",
        "text": [
         "ERROR 1: PROJ: proj_create_from_database: Open of /opt/conda/share/proj failed\n"
        ]
       }
      ],
      "source": [
       "import os\n",
       "import pandas\n",
       "import geopandas\n",
       "from shapely.geometry import box\n",
       "\n",
       "# Form contains geometries\n",
       "fo = [i for i in os.listdir('form/') if '.parquet' in i]\n",
       "\n",
       "def process_chunk(p):\n",
       "    db = geopandas.read_parquet(f'form/{p}')\n",
       "    geom = box(*db.total_bounds)\n",
       "    df = geopandas.GeoDataFrame(\n",
       "        {'geometry': [geom], 'file': [p], 'n_etcs': [len(db)], 'area': [db.area.sum()]}\n",
       "    )\n",
       "    return df"
      ]
     },
     {
      "cell_type": "code",
      "execution_count": 2,
      "id": "3305771b",
      "metadata": {},
      "outputs": [
       {
        "name": "stderr",
        "output_type": "stream",
        "text": [
         "ERROR 1: PROJ: proj_create_from_database: Open of /opt/conda/share/proj failed\n",
         "ERROR 1: PROJ: proj_create_from_database: Open of /opt/conda/share/proj failed\n",
         "ERROR 1: PROJ: proj_create_from_database: Open of /opt/conda/share/proj failed\n",
         "ERROR 1: PROJ: proj_create_from_database: Open of /opt/conda/share/proj failed\n",
         "ERROR 1: PROJ: proj_create_from_database: Open of /opt/conda/share/proj failed\n",
         "ERROR 1: PROJ: proj_create_from_database: Open of /opt/conda/share/proj failed\n",
         "ERROR 1: PROJ: proj_create_from_database: Open of /opt/conda/share/proj failed\n",
         "ERROR 1: PROJ: proj_create_from_database: Open of /opt/conda/share/proj failed\n",
         "ERROR 1: PROJ: proj_create_from_database: Open of /opt/conda/share/proj failed\n",
         "ERROR 1: PROJ: proj_create_from_database: Open of /opt/conda/share/proj failed\n",
         "ERROR 1: PROJ: proj_create_from_database: Open of /opt/conda/share/proj failed\n",
         "ERROR 1: PROJ: proj_create_from_database: Open of /opt/conda/share/proj failed\n",
         "ERROR 1: PROJ: proj_create_from_database: Open of /opt/conda/share/proj failed\n",
         "ERROR 1: PROJ: proj_create_from_database: Open of /opt/conda/share/proj failed\n",
         "ERROR 1: PROJ: proj_create_from_database: Open of /opt/conda/share/proj failed\n",
         "ERROR 1: PROJ: proj_create_from_database: Open of /opt/conda/share/proj failed\n"
        ]
       },
       {
        "name": "stdout",
        "output_type": "stream",
        "text": [
         "CPU times: user 246 ms, sys: 86.8 ms, total: 332 ms\n",
         "Wall time: 23.6 s\n"
        ]
       }
      ],
      "source": [
       "from dask import bag as dbag\n",
       "\n",
       "bag = dbag.from_sequence(fo)\n",
       "%time db = bag.map(process_chunk).compute()\n",
       "db = pandas.concat(db).set_crs(epsg=27700).to_crs(epsg=4326)"
      ]
     },
     {
      "cell_type": "code",
      "execution_count": 3,
      "id": "8bdbbf88",
      "metadata": {},
      "outputs": [
       {
        "name": "stderr",
        "output_type": "stream",
        "text": [
         "/opt/conda/lib/python3.9/site-packages/geopandas/io/file.py:362: FutureWarning: pandas.Int64Index is deprecated and will be removed from pandas in a future version. Use pandas.Index with the appropriate dtype instead.\n",
         "  pd.Int64Index,\n"
        ]
       }
      ],
      "source": [
       "db.to_file('chunks.geojson', driver='GeoJSON')"
      ]
     }
    ],
    "metadata": {
     "kernelspec": {
      "display_name": "Python 3 (ipykernel)",
      "language": "python",
      "name": "python3"
     },
     "language_info": {
      "codemirror_mode": {
       "name": "ipython",
       "version": 3
      },
      "file_extension": ".py",
      "mimetype": "text/x-python",
      "name": "python",
      "nbconvert_exporter": "python",
      "pygments_lexer": "ipython3",
      "version": "3.9.12"
     }
    },
    "nbformat": 4,
    "nbformat_minor": 5
   }
   