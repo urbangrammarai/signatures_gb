{
 "cells": [
  {
   "cell_type": "markdown",
   "id": "8d8d663e-eb70-46fd-8c6a-458eb677d50c",
   "metadata": {},
   "source": [
    "# Geopack & rechunk ET cells"
   ]
  },
  {
   "cell_type": "code",
   "execution_count": 1,
   "id": "9f0b0050-7c4c-4a21-820c-a2f293bb04c8",
   "metadata": {
    "tags": []
   },
   "outputs": [],
   "source": [
    "import os\n",
    "os.environ['USE_PYGEOS'] = '1'\n",
    "\n",
    "import dask\n",
    "import pandas\n",
    "import geopandas\n",
    "import dask_geopandas\n",
    "import dask.dataframe as ddf\n",
    "from dask.distributed import LocalCluster, Client\n",
    "\n",
    "#dask.config.set({'temporary_directory': '/home/jovyan/data/tmp/dask_tmp/'})"
   ]
  },
  {
   "cell_type": "markdown",
   "id": "5779295e-342f-4861-bacb-20184c8bd594",
   "metadata": {},
   "source": [
    "We set up a local cluster to run the rechunking on Dask:"
   ]
  },
  {
   "cell_type": "code",
   "execution_count": 2,
   "id": "a5f25e3c-b388-44b4-9a07-d3caf1a665a2",
   "metadata": {
    "tags": []
   },
   "outputs": [
    {
     "name": "stderr",
     "output_type": "stream",
     "text": [
      "2023-08-24 17:25:58,524 - distributed.diskutils - INFO - Found stale lock file and directory '/tmp/dask-worker-space/worker-at6vga28', purging\n",
      "2023-08-24 17:25:58,612 - distributed.diskutils - INFO - Found stale lock file and directory '/tmp/dask-worker-space/worker-g9ig2f11', purging\n",
      "2023-08-24 17:25:58,823 - distributed.diskutils - INFO - Found stale lock file and directory '/tmp/dask-worker-space/worker-uc8sfktx', purging\n",
      "2023-08-24 17:25:59,043 - distributed.diskutils - INFO - Found stale lock file and directory '/tmp/dask-worker-space/worker-4s67oanb', purging\n",
      "2023-08-24 17:25:59,136 - distributed.diskutils - INFO - Found stale lock file and directory '/tmp/dask-worker-space/worker-djyu5os2', purging\n"
     ]
    }
   ],
   "source": [
    "client = Client(LocalCluster(n_workers=8))"
   ]
  },
  {
   "cell_type": "code",
   "execution_count": 5,
   "id": "ba0f323c-12b5-491f-a4f4-feb13bdd843a",
   "metadata": {
    "tags": []
   },
   "outputs": [],
   "source": [
    "client.shutdown()"
   ]
  },
  {
   "cell_type": "markdown",
   "id": "2baca906-6ad4-4278-9f3a-6657838b4e54",
   "metadata": {},
   "source": [
    "Connect to the ET cells (under `form`) and other data:"
   ]
  },
  {
   "cell_type": "code",
   "execution_count": 3,
   "id": "05caee84-4f29-42e7-8ad9-752f96cd7504",
   "metadata": {
    "tags": []
   },
   "outputs": [],
   "source": [
    "form = dask_geopandas.read_parquet('form/')\n",
    "function = ddf.read_parquet('function/')\n",
    "ss = ddf.read_parquet('signature_type/')\n",
    "ss['signature_type'] = (\n",
    "    ss['signature_type']\n",
    "    .astype('category')\n",
    "    .cat.as_known()\n",
    ")"
   ]
  },
  {
   "cell_type": "markdown",
   "id": "406a01e6-a18a-40b9-9a9e-968b6e71c420",
   "metadata": {},
   "source": [
    "Join all and spatial shuffle with a repartition to only 100 partitions and write directly to disk:\n",
    "\n",
    "---\n",
    "\n",
    "**NOTE** - `form` and `function` are aligned so we can save some computation by concatenating them instead of joining by index. Before, we check that is the case:"
   ]
  },
  {
   "cell_type": "code",
   "execution_count": 23,
   "id": "6a5b6fda-5a6f-4915-ab4b-0735361fbf98",
   "metadata": {
    "tags": []
   },
   "outputs": [
    {
     "name": "stderr",
     "output_type": "stream",
     "text": [
      "/opt/conda/lib/python3.10/site-packages/dask/dataframe/multi.py:1269: UserWarning: Concatenating dataframes with unknown divisions.\n",
      "We're assuming that the indices of each dataframes are \n",
      " aligned. This assumption is not generally safe.\n",
      "  warnings.warn(\n"
     ]
    },
    {
     "name": "stdout",
     "output_type": "stream",
     "text": [
      "CPU times: user 16.6 s, sys: 1.29 s, total: 17.9 s\n",
      "Wall time: 41.7 s\n"
     ]
    },
    {
     "data": {
      "text/plain": [
       "0"
      ]
     },
     "execution_count": 23,
     "metadata": {},
     "output_type": "execute_result"
    }
   ],
   "source": [
    "%%time\n",
    "ff_check = ddf.concat(\n",
    "    [\n",
    "        form.rename(columns={'hindex': 'hindex_form'}), \n",
    "        function.rename(columns={'hindex': 'hindex_function'}), \n",
    "    ], \n",
    "    axis='columns'\n",
    ")\n",
    "(ff_check['hindex_form'] != ff_check['hindex_function']).sum().compute()"
   ]
  },
  {
   "cell_type": "markdown",
   "id": "b235672d-24d9-4ef0-a456-c132835c39a0",
   "metadata": {},
   "source": [
    "---"
   ]
  },
  {
   "cell_type": "markdown",
   "id": "eed5d6fc-88c4-49a1-b86a-6ed652bdc549",
   "metadata": {},
   "source": [
    "## FF"
   ]
  },
  {
   "cell_type": "markdown",
   "id": "72e3f295-66b4-47da-b65f-45d649e997a5",
   "metadata": {},
   "source": [
    "Now we can proceed with the full operation:"
   ]
  },
  {
   "cell_type": "code",
   "execution_count": 4,
   "id": "fceb53b8-4796-4d23-a377-f875d90bb90c",
   "metadata": {
    "tags": []
   },
   "outputs": [
    {
     "name": "stderr",
     "output_type": "stream",
     "text": [
      "/opt/conda/lib/python3.10/site-packages/dask/dataframe/multi.py:1269: UserWarning: Concatenating dataframes with unknown divisions.\n",
      "We're assuming that the indices of each dataframes are \n",
      " aligned. This assumption is not generally safe.\n",
      "  warnings.warn(\n",
      "2023-08-24 17:32:59,018 - distributed.worker_memory - WARNING - Worker is at 80% memory usage. Pausing worker.  Process memory: 12.57 GiB -- Worker memory limit: 15.69 GiB\n",
      "2023-08-24 17:32:59,467 - distributed.worker_memory - WARNING - Worker is at 73% memory usage. Resuming worker. Process memory: 11.57 GiB -- Worker memory limit: 15.69 GiB\n"
     ]
    },
    {
     "name": "stdout",
     "output_type": "stream",
     "text": [
      "CPU times: user 2min 35s, sys: 12.4 s, total: 2min 47s\n",
      "Wall time: 8min 36s\n"
     ]
    }
   ],
   "source": [
    "%%time\n",
    "gp_all = (\n",
    "    ddf.concat(\n",
    "        [\n",
    "            form.rename(columns={'hindex': 'hindex_form'}), \n",
    "            function.rename(columns={'hindex': 'hindex_function'}), \n",
    "        ], \n",
    "        axis='columns'\n",
    "    )\n",
    "    .drop(columns=['hindex_form'])\n",
    "    .repartition(npartitions=100)\n",
    "    .rename(columns={'hindex_function': 'hindex'})\n",
    "    .rename_geometry('geometry')\n",
    "    .spatial_shuffle(by='hilbert') \n",
    ")"
   ]
  },
  {
   "cell_type": "markdown",
   "id": "72c0f777-97ad-458a-82d7-5ca484e869e2",
   "metadata": {},
   "source": [
    "## Write geoms"
   ]
  },
  {
   "cell_type": "markdown",
   "id": "7e2b542c-d685-410e-82cc-7d654ffb0517",
   "metadata": {},
   "source": [
    "Write ET cells to disk:"
   ]
  },
  {
   "cell_type": "code",
   "execution_count": null,
   "id": "bd659d64-c2ad-4a23-ba16-a6758c1f80b6",
   "metadata": {
    "tags": []
   },
   "outputs": [
    {
     "name": "stderr",
     "output_type": "stream",
     "text": [
      "2023-08-24 17:38:06,465 - distributed.worker_memory - WARNING - Worker is at 82% memory usage. Pausing worker.  Process memory: 13.00 GiB -- Worker memory limit: 15.69 GiB\n",
      "2023-08-24 17:38:08,313 - distributed.worker_memory - WARNING - Worker is at 73% memory usage. Resuming worker. Process memory: 11.56 GiB -- Worker memory limit: 15.69 GiB\n",
      "2023-08-24 17:38:21,419 - distributed.worker_memory - WARNING - Worker is at 80% memory usage. Pausing worker.  Process memory: 12.67 GiB -- Worker memory limit: 15.69 GiB\n",
      "2023-08-24 17:38:22,111 - distributed.worker_memory - WARNING - Worker is at 79% memory usage. Resuming worker. Process memory: 12.53 GiB -- Worker memory limit: 15.69 GiB\n"
     ]
    }
   ],
   "source": [
    "%%time\n",
    "(\n",
    "    gp_all\n",
    "    [['geometry', 'hindex']]\n",
    "    .to_parquet('../et_cells_geopack/et_cells')\n",
    ")"
   ]
  },
  {
   "cell_type": "markdown",
   "id": "17ffa403-df74-46c6-bbd7-e4f8745c89eb",
   "metadata": {},
   "source": [
    "## Write form"
   ]
  },
  {
   "cell_type": "markdown",
   "id": "974eab3a-8ca2-4539-bb31-871880612a0c",
   "metadata": {},
   "source": [
    "Write form to disk (as non-spatial table):"
   ]
  },
  {
   "cell_type": "code",
   "execution_count": null,
   "id": "5206d67f-d1f6-4db8-8f6f-39d33771afcb",
   "metadata": {
    "scrolled": true,
    "tags": []
   },
   "outputs": [],
   "source": [
    "%%time\n",
    "(\n",
    "    gp_all\n",
    "    [form.drop(columns='tessellation').columns]\n",
    "    .to_parquet('../et_cells_geopack/form')\n",
    ")"
   ]
  },
  {
   "cell_type": "markdown",
   "id": "b3de6e36-80a6-4b23-9611-2a92a7fc2060",
   "metadata": {},
   "source": [
    "## Write function"
   ]
  },
  {
   "cell_type": "markdown",
   "id": "990325f4-b48e-4857-a1c0-8e7bfddad581",
   "metadata": {},
   "source": [
    "Write function to disk (as non-spatial table):"
   ]
  },
  {
   "cell_type": "code",
   "execution_count": null,
   "id": "0422889f-e39e-4117-b3f5-fe7a0ff9a990",
   "metadata": {
    "scrolled": true,
    "tags": []
   },
   "outputs": [],
   "source": [
    "%%time\n",
    "import pyarrow as pa\n",
    "\n",
    "schema = {k: pa.float64() for k in function.columns}\n",
    "schema[\"hindex\"] = pa.string()\n",
    "(\n",
    "    gp_all\n",
    "    [function.columns]\n",
    "    .to_parquet('../et_cells_geopack/function', schema=schema)\n",
    ")"
   ]
  },
  {
   "cell_type": "markdown",
   "id": "5d0e9c44-b394-46b2-b8d3-fdb39cbcec1a",
   "metadata": {},
   "source": [
    "## Write SS"
   ]
  },
  {
   "cell_type": "code",
   "execution_count": null,
   "id": "14dfbf22-c938-4312-8bbb-b59e95197c00",
   "metadata": {
    "tags": []
   },
   "outputs": [],
   "source": [
    "ids = ddf.read_parquet('../et_cells_geopack/et_cells/', columns=['hindex'])"
   ]
  },
  {
   "cell_type": "markdown",
   "id": "ed96e6c2-c1cb-4c46-876a-c8db712e6287",
   "metadata": {},
   "source": [
    "Write signature types to disk:"
   ]
  },
  {
   "cell_type": "code",
   "execution_count": null,
   "id": "f6649ade-467f-4523-805b-593f0549c6c8",
   "metadata": {
    "tags": []
   },
   "outputs": [],
   "source": [
    "%%time\n",
    "\n",
    "ss_unique = ss.drop_duplicates().set_index('hindex')\n",
    "\n",
    "(\n",
    "    ids\n",
    "    .join(ss_unique, on='hindex')\n",
    "    .to_parquet('../et_cells_geopack/signature_type')\n",
    ")"
   ]
  },
  {
   "cell_type": "code",
   "execution_count": null,
   "id": "f3c22e25-6c8d-4852-aa06-ce4780c9fb68",
   "metadata": {
    "tags": []
   },
   "outputs": [],
   "source": [
    "%%time\n",
    "\n",
    "ss_check = ddf.concat(\n",
    "    [\n",
    "        (\n",
    "            ddf.read_parquet('../et_cells_geopack/form/', columns=['hindex'])\n",
    "            .rename(columns={'hindex': 'hindex_form'})\n",
    "        ),\n",
    "        ddf.read_parquet('../et_cells_geopack/signature_type/', columns=['hindex'])\n",
    "    ],\n",
    "    axis='columns'\n",
    ")\n",
    "(ss_check['hindex_form'] != ss_check['hindex']).sum().compute()"
   ]
  }
 ],
 "metadata": {
  "kernelspec": {
   "display_name": "Python 3 (ipykernel)",
   "language": "python",
   "name": "python3"
  },
  "language_info": {
   "codemirror_mode": {
    "name": "ipython",
    "version": 3
   },
   "file_extension": ".py",
   "mimetype": "text/x-python",
   "name": "python",
   "nbconvert_exporter": "python",
   "pygments_lexer": "ipython3",
   "version": "3.10.10"
  }
 },
 "nbformat": 4,
 "nbformat_minor": 5
}
